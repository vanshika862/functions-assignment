{
  "nbformat": 4,
  "nbformat_minor": 0,
  "metadata": {
    "colab": {
      "provenance": []
    },
    "kernelspec": {
      "name": "python3",
      "display_name": "Python 3"
    },
    "language_info": {
      "name": "python"
    }
  },
  "cells": [
    {
      "cell_type": "markdown",
      "source": [
        "Theory quetions"
      ],
      "metadata": {
        "id": "80bUr9JzAbai"
      }
    },
    {
      "cell_type": "markdown",
      "source": [
        "Q1 what is the difference between function in and method in python?\n",
        "\n",
        "Ans - A function in python is a block of reusable code that performs a specific task. Its is deined using the def keyword and can be called independently without being tied to any object\n",
        "\n",
        "Functions are not tied to any object\n",
        "\n",
        "Functions aare called directly by their name\n",
        "\n",
        "Fuctions do not have  acces to their instance or class data unless explicity passed.\n",
        "\n",
        "Methods- it is a function that is associated with an object and is called on that object.\n",
        "\n",
        "Methods are associate with the objects and are called on them\n",
        "\n",
        "Methods are defined within a class\n",
        "\n",
        "Methods recieve the instances self or clas as their first argument."
      ],
      "metadata": {
        "id": "805Es4NPAiBw"
      }
    },
    {
      "cell_type": "markdown",
      "source": [
        "Q2 Explain the concept of function arguments and parameters in python\n",
        "\n",
        "Ans paameters and arguments are integral to defing and calling functins\n",
        "\n",
        "parameters these are the variables listed insid the parentheses in the function defination\n",
        "\n",
        "they act as a palceholdeers for the values that function expects when it is called\n",
        "\n",
        "\n",
        "Arguments these are the actual values or data you pass to the function when calling it.\n",
        "\n",
        "they replace the parametrs in the function defination\n",
        "\n",
        "By combinig parameters and  arguments , python functions can be made highly flexible and resuable."
      ],
      "metadata": {
        "id": "8Rw7kT9DCUPf"
      }
    },
    {
      "cell_type": "markdown",
      "source": [
        "Q3 what are the different ways to define and call a function in python ?\n",
        "\n",
        "Ans different ways to define a function in python are --\n",
        "\n",
        "functions can be defined by using def keyword followed by the function name\n",
        " def greet (name) :\n",
        "     return f\"hello, {name} !\"\n",
        "\n",
        "Functions are called by using their nmaw followed argumnts passed\n"
      ],
      "metadata": {
        "id": "JXuO5O3fD-52"
      }
    },
    {
      "cell_type": "markdown",
      "source": [
        "Q4 wht is the  purpose of return statements in apython function\n",
        "Ans - return statements is used to send a value back to the caller of the function . It terminates the functions execution and  specifices that value that  should be returned to the point where the function was called. if no return statement is used function returns none by default\n",
        "\n",
        "return statements allows  a function  to output a value thta can be used elsewhwere in the programm\n",
        "\n",
        "return statement immediately end the functions execution you can return multiple values as a tuple\n",
        "\n",
        "it is useful for creating reusalble and modular code as it allows functionn to process data and give  results."
      ],
      "metadata": {
        "id": "0oeDgnATFLz8"
      }
    },
    {
      "cell_type": "markdown",
      "source": [
        "Q5 what are iterators in python  and how  do they differ from iterables?\n",
        "\n",
        "\n",
        "ANs  iterators in python are objects that represent a stream of data  they allow you  traverse through all the elements of a collection  one ata time . iterators are implemented using twokey methods\n",
        "1 __iter__(): returns the iterator object itself\n",
        "\n",
        "2 __next__(): returns the next values from the iterators . It there are no more items , it raises a stopiiteration exception.\n",
        "\n",
        "Iterable an iterable is any python object that acn return an iterator using the iter () examples; lists, tuples, dictionaries and sets\n",
        "\n",
        "it must have __iter__() method does not have __next__()\n",
        "\n",
        "iterator is an object that can be iterated upon (one elemnt at a time ) using the next  () function\n",
        "\n",
        "It must implement both __iter__() and __next__() methods\n",
        "\n"
      ],
      "metadata": {
        "id": "TJ05p8F0G77T"
      }
    },
    {
      "cell_type": "markdown",
      "source": [
        "Q6 explain the concept of genertors in python and how they are defined\n",
        "\n",
        "ANs- Genetors in python are special type of iterable that allow you to produce a sequence of values , they genertae values pn the fly and do not store them in memory . they are particularly  useful  for handling large datasets or infinite sequences efficiently\n",
        "\n",
        "they are dfined as follows-\n",
        "\n",
        "1 as a generators funtions -it is defins as one or more functions is called , it returns a genertor object without executing the function this only runs when next() is called on the generator  object.\n",
        "\n",
        "2 as a generator  expressions - these are concise way to create create genertors\n",
        "\n"
      ],
      "metadata": {
        "id": "BWsupQotKtuA"
      }
    },
    {
      "cell_type": "markdown",
      "source": [
        "Q7 what are the advantages of using genertors over regular functions ?\n",
        "\n",
        "Ans genertors producevalues on thr fluy and do not store the entire sequence in memory . this makes them highly efficient fir handling large datasts or infinite sequences.\n",
        "\n",
        "genertors maintain their state between calls allowing them to resume  execution from where they left off this is particularly useful fir iterating over large datasets.\n",
        "\n",
        "generators  avoid the overhead of creating and storing large data structures , making them faster and more efficient for large scale computations\n",
        "\n",
        "unlike lists genertors can represent can repesent infinite  generate  values dynamically without requiring memory to store  all elements\n",
        "\n",
        "genertors eliminate the need to create intermediate data structures reducing both memory usage and computation overhead"
      ],
      "metadata": {
        "id": "yKufmf8nNDQ2"
      }
    },
    {
      "cell_type": "markdown",
      "source": [
        "Q8what are lambda function in python and when is it typically used ?\n",
        "\n",
        "Ans - a lambda function in python is asmall , anonymous function defined using the lambda keyword . Unlike regular functions defined with the def keyword , lambda functions are written in a single line and can have any number of argumentss but only one expression is automatically returned.\n",
        "\n",
        "they are commonly used with functions like map () , filter (), and reduce () for concise and readable code.\n",
        "\n",
        "lambda funtions  are often used as the key argument in storing operations\n",
        "\n",
        "these are ideal for simple operations  that dont require a full function definition."
      ],
      "metadata": {
        "id": "9hIuk4NHOxtc"
      }
    },
    {
      "cell_type": "markdown",
      "source": [
        "Q9 explain the purposes and usage of map () function in python  \n",
        "\n",
        "ans themap () function in python is ued to apply a given function to each item in an iterable and returns a map object containning the results . It is particularly usful for perfrming transfomation or computations on a collection of data in a concise and efficient manner.\n",
        "\n",
        " * the primary purpose of map () is to simply to process of applying a function to all elements in an iterable without he nedd for explicit loops\n",
        "\n",
        " * adding corresponding elementts from two list\n",
        "\n",
        " * converting list of strings to uppercase\n",
        "\n",
        " The map () function is powerful tool ffor functional programming in python , enabling concise and efficient data transformation.\n",
        "\n",
        "\n",
        "\n"
      ],
      "metadata": {
        "id": "u5mcRnmRQOY0"
      }
    },
    {
      "cell_type": "markdown",
      "source": [
        "Q 10 What is the difference between map() , reduce (), and filter () funtions in python\n",
        "\n",
        "Ans - 1 map ()\n",
        "\n",
        "* applis a given function to each item  in an iterable and iterator with the results\n",
        "\n",
        "* transforming data by applying a function to evey  element\n",
        "\n",
        "* syntax : map(function, iterable )\n",
        "\n",
        "2. reduce()\n",
        "\n",
        "* applies functions cumulatively to the items in an iterable reducing it to a single value\n",
        "\n",
        "* aggregating data eg summing ,multiplying )\n",
        "\n",
        "syntax : reduce() is not a inbuilt function and must be imported from funtools\n",
        "\n",
        "3 filter()\n",
        "\n",
        "* filterrs elemts from an iterable based  on a function that returns true or  false\n",
        "\n",
        "* extracting elements that satisfy a condition\n",
        "\n",
        "* syntax filter (function , iterable )"
      ],
      "metadata": {
        "id": "Xs7OPvlVTy4j"
      }
    },
    {
      "cell_type": "markdown",
      "source": [
        "practical questions"
      ],
      "metadata": {
        "id": "WtgNfPTtV7SI"
      }
    },
    {
      "cell_type": "markdown",
      "source": [
        "Q1 write a python function that takes a list of numbers as input and returns the sum of all even numbers in the list"
      ],
      "metadata": {
        "id": "y9YB8rfgV9sY"
      }
    },
    {
      "cell_type": "code",
      "execution_count": 28,
      "metadata": {
        "id": "x6CVg9asAXt-"
      },
      "outputs": [],
      "source": [
        "def sum_of_even_numbers(numbers):\n",
        "  \"\"\"\n",
        "  this function takes a list of numbers as input and returns the sum of all even numbers in the list\n",
        "  :param numbers: list of numbers\n",
        "  :return: sum of even numbers\n",
        "  \"\"\"\n",
        "  return sum (num for num in numbers if num % 2 == 0)\n",
        "\n",
        "  #example usage:\n",
        "  numbers - [1,2,3,4,5,6,7,8,9,10]\n",
        "  print(sum_of_even_numbers(numbers))\n",
        "\n",
        "\n"
      ]
    },
    {
      "cell_type": "markdown",
      "source": [
        "Q2  create a python function thata ccepts a string  and returns the reverse of that string"
      ],
      "metadata": {
        "id": "LHbvekKsOsse"
      }
    },
    {
      "cell_type": "code",
      "source": [
        "def reverse_string(string):\n",
        "  \"\"\"\n",
        "  this function takes a string as input and returns the reverse of that string\n",
        "  :param string: input string\n",
        "  :return: reversed string\n",
        "  \"\"\"\n",
        "  return string[::-1]\n",
        "\n",
        "  #example usage:\n",
        "  string = \"hello world\"\n",
        "  reversed_string = reverse_string(string)\n",
        "  print(\"reversed_string:\", reversed_string)"
      ],
      "metadata": {
        "id": "i2HSOmj6O5-O"
      },
      "execution_count": 13,
      "outputs": []
    },
    {
      "cell_type": "markdown",
      "source": [
        "Q3 Implement a python function that takes a list  of integers and returns a new list containing the squares of each number"
      ],
      "metadata": {
        "id": "KVpGa6T8Ps_c"
      }
    },
    {
      "cell_type": "code",
      "source": [
        "def square_numbers(numbers):\n",
        "  \"\"\"\n",
        "  this function takes a list of integers as input and returns a new list containing the squares of each number\n",
        "  :param numbers: list of integers\n",
        "  :return: list of squares\n",
        "  \"\"\"\n",
        "  return [num**2 for num in numbers]\n",
        "\n",
        "  #example usage:\n",
        "  numbers = [1,2,3,4,5]\n",
        "  squares = square_numbers(numbers)\n",
        "  print(\"squares:\", squares)"
      ],
      "metadata": {
        "id": "z6snqTN1P_N8"
      },
      "execution_count": 14,
      "outputs": []
    },
    {
      "cell_type": "markdown",
      "source": [
        "Q4write a python function that checks if agiven number is prime or not from 1 to 200"
      ],
      "metadata": {
        "id": "SCX2MFy-QPVj"
      }
    },
    {
      "cell_type": "code",
      "source": [
        "def is_prime(number):\n",
        "  \"\"\"\n",
        "  this function checks if a given number is prime or not\n",
        "  :param number: integer\n",
        "  :return: True if prime, False otherwise\n",
        "  \"\"\"\n",
        "  if number <=1:\n",
        "    return False\n",
        "  for i in range(2, int(number**0.5)+1):\n",
        "    if number % i == 0:\n",
        "      return False\n",
        "  return True\n",
        "  #example usagae\n",
        "  for num in range(1,201):\n",
        "    if is_prime(num):\n",
        "      print(f\"{num} is prime\")\n",
        "    else:\n",
        "      print(f\"{num} is not prime\")"
      ],
      "metadata": {
        "id": "RxH5gXvyQri0"
      },
      "execution_count": 52,
      "outputs": []
    },
    {
      "cell_type": "markdown",
      "source": [
        "Q5create an iterator class in python that generates the fibonacci sequence up to a specified number of terms"
      ],
      "metadata": {
        "id": "lUB1749pRZaM"
      }
    },
    {
      "cell_type": "code",
      "source": [
        "class FibonacciIterator:\n",
        "  def __init__(self , num_terms):\n",
        "    \"\"\"\n",
        "    Initialize the iterator with the number of terms to generate.\n",
        "    :param num_terms: the number of terms in the fibonacci statement.\n",
        "    \"\"\"\n",
        "    self.num_terms = num_terms\n",
        "    self.current = 0\n",
        "    self.next = 1\n",
        "    self.count = 0\n",
        "\n",
        "  def __iter__(self):\n",
        "    \"\"\"\n",
        "    returns the iterator object itself.\n",
        "    \"\"\"\n",
        "    return self\n",
        "\n",
        "  def __next__(self):\n",
        "    \"\"\"\n",
        "    returns the next number fibonacci in the sequence.\n",
        "    raises stopiteration when the specified  number of terms is reached.\n",
        "    \"\"\"\n",
        "    if self.count >= self.num_terms:\n",
        "      raise StopIteration\n",
        "    if self.count == 0:\n",
        "      self.count += 1\n",
        "      return self.current\n",
        "    elif self.count == 1:\n",
        "      self.count += 1\n",
        "      return self.next\n",
        "    else:\n",
        "        fib = self.current, self.next = self.next, self.current + self.next\n",
        "        self.count += 1\n",
        "        return fib\n",
        "\n",
        "  #example usage :\n",
        "  num_terms = 10 #specify  the number of terms\n",
        "  fib_iterator = Fibonacci(num_terms)\n",
        "  print(f\"fibonacci sequence up to {num_terms} terms:\")\n",
        "  for num in fib_iterator:\n",
        "    print(number)"
      ],
      "metadata": {
        "colab": {
          "base_uri": "https://localhost:8080/",
          "height": 332
        },
        "id": "ko7aVFfThJNJ",
        "outputId": "176eb14b-a7de-4ae2-ec72-fd736599cf7a"
      },
      "execution_count": 55,
      "outputs": [
        {
          "output_type": "error",
          "ename": "NameError",
          "evalue": "name 'Fibonacci' is not defined",
          "traceback": [
            "\u001b[0;31m---------------------------------------------------------------------------\u001b[0m",
            "\u001b[0;31mNameError\u001b[0m                                 Traceback (most recent call last)",
            "\u001b[0;32m<ipython-input-55-3447eed60850>\u001b[0m in \u001b[0;36m<cell line: 0>\u001b[0;34m()\u001b[0m\n\u001b[0;32m----> 1\u001b[0;31m \u001b[0;32mclass\u001b[0m \u001b[0mFibonacciIterator\u001b[0m\u001b[0;34m:\u001b[0m\u001b[0;34m\u001b[0m\u001b[0;34m\u001b[0m\u001b[0m\n\u001b[0m\u001b[1;32m      2\u001b[0m   \u001b[0;32mdef\u001b[0m \u001b[0m__init__\u001b[0m\u001b[0;34m(\u001b[0m\u001b[0mself\u001b[0m \u001b[0;34m,\u001b[0m \u001b[0mnum_terms\u001b[0m\u001b[0;34m)\u001b[0m\u001b[0;34m:\u001b[0m\u001b[0;34m\u001b[0m\u001b[0;34m\u001b[0m\u001b[0m\n\u001b[1;32m      3\u001b[0m     \"\"\"\n\u001b[1;32m      4\u001b[0m     \u001b[0mInitialize\u001b[0m \u001b[0mthe\u001b[0m \u001b[0miterator\u001b[0m \u001b[0;32mwith\u001b[0m \u001b[0mthe\u001b[0m \u001b[0mnumber\u001b[0m \u001b[0mof\u001b[0m \u001b[0mterms\u001b[0m \u001b[0mto\u001b[0m \u001b[0mgenerate\u001b[0m\u001b[0;34m.\u001b[0m\u001b[0;34m\u001b[0m\u001b[0;34m\u001b[0m\u001b[0m\n\u001b[1;32m      5\u001b[0m     \u001b[0;34m:\u001b[0m\u001b[0mparam\u001b[0m \u001b[0mnum_terms\u001b[0m\u001b[0;34m:\u001b[0m \u001b[0mthe\u001b[0m \u001b[0mnumber\u001b[0m \u001b[0mof\u001b[0m \u001b[0mterms\u001b[0m \u001b[0;32min\u001b[0m \u001b[0mthe\u001b[0m \u001b[0mfibonacci\u001b[0m \u001b[0mstatement\u001b[0m\u001b[0;34m.\u001b[0m\u001b[0;34m\u001b[0m\u001b[0;34m\u001b[0m\u001b[0m\n",
            "\u001b[0;32m<ipython-input-55-3447eed60850>\u001b[0m in \u001b[0;36mFibonacciIterator\u001b[0;34m()\u001b[0m\n\u001b[1;32m     36\u001b[0m   \u001b[0;31m#example usage :\u001b[0m\u001b[0;34m\u001b[0m\u001b[0;34m\u001b[0m\u001b[0m\n\u001b[1;32m     37\u001b[0m   \u001b[0mnum_terms\u001b[0m \u001b[0;34m=\u001b[0m \u001b[0;36m10\u001b[0m \u001b[0;31m#specify  the number of terms\u001b[0m\u001b[0;34m\u001b[0m\u001b[0;34m\u001b[0m\u001b[0m\n\u001b[0;32m---> 38\u001b[0;31m   \u001b[0mfib_iterator\u001b[0m \u001b[0;34m=\u001b[0m \u001b[0mFibonacci\u001b[0m\u001b[0;34m(\u001b[0m\u001b[0mnum_terms\u001b[0m\u001b[0;34m)\u001b[0m\u001b[0;34m\u001b[0m\u001b[0;34m\u001b[0m\u001b[0m\n\u001b[0m\u001b[1;32m     39\u001b[0m   \u001b[0mprint\u001b[0m\u001b[0;34m(\u001b[0m\u001b[0;34mf\"fibonacci sequence up to {num_terms} terms:\"\u001b[0m\u001b[0;34m)\u001b[0m\u001b[0;34m\u001b[0m\u001b[0;34m\u001b[0m\u001b[0m\n\u001b[1;32m     40\u001b[0m   \u001b[0;32mfor\u001b[0m \u001b[0mnum\u001b[0m \u001b[0;32min\u001b[0m \u001b[0mfib_iterator\u001b[0m\u001b[0;34m:\u001b[0m\u001b[0;34m\u001b[0m\u001b[0;34m\u001b[0m\u001b[0m\n",
            "\u001b[0;31mNameError\u001b[0m: name 'Fibonacci' is not defined"
          ]
        }
      ]
    },
    {
      "cell_type": "markdown",
      "source": [
        "Q6 write a genertaor function in python that yields the powers of 2 upto a given errror"
      ],
      "metadata": {
        "id": "UHGtnE1OU7jX"
      }
    },
    {
      "cell_type": "code",
      "source": [
        "def powers_of_two(max_exponents):\n",
        "  \"\"\"\n",
        "  A generator function that yeild the powers of 2 upto the given exponent.\n",
        "  \"param max_exponent: the maximum exponent for 2^n.\n",
        "  \"\"\"\n",
        "  for exponent in range(max_exponent + 1):\n",
        "    yield 2 ** exponent\n",
        "\n",
        "# example usage :\n",
        "max_exponent = 10 # specify the maxium exponent\n",
        "print(f\"powers of 2 upto {max_exponent}:\")\n",
        "for power in powers_of_two(max_exponent):\n",
        "  print(power)"
      ],
      "metadata": {
        "colab": {
          "base_uri": "https://localhost:8080/"
        },
        "id": "HaKDuaZHOmwf",
        "outputId": "8643109b-1981-4ae5-d947-0e29da0b9314"
      },
      "execution_count": 21,
      "outputs": [
        {
          "output_type": "stream",
          "name": "stdout",
          "text": [
            "powers of 2 upto 10:\n",
            "1\n",
            "2\n",
            "4\n",
            "8\n",
            "16\n",
            "32\n",
            "64\n",
            "128\n",
            "256\n",
            "512\n",
            "1024\n"
          ]
        }
      ]
    },
    {
      "cell_type": "markdown",
      "source": [
        "Q7 Implement a generator function that reads a file line by line and yeilds each line as a string"
      ],
      "metadata": {
        "id": "zte1OMGuWiQu"
      }
    },
    {
      "cell_type": "code",
      "source": [
        "def read_file_line_by_line(file_path):\n",
        "  \"\"\"\n",
        "  A generator function that reads a file line by line and yeilds each line as a string.\n",
        "  :param file_path: the path to the file to be read.\n",
        "  \"\"\"\n",
        "  try:\n",
        "    with open(file_path,  'r') as file:\n",
        "      for line in file:\n",
        "        yield line.strip()\n",
        "  except FileNotFoundError:\n",
        "    print(f\"file not found: {file_path}\")\n",
        "  except Exception as e:\n",
        "    print(f\"an error occurred: {e}\")\n",
        "\n",
        "#example usage:\n",
        "#replace 'example.txt' with the path to your file\n",
        "file_path =  'example.txt'\n",
        "print(f\"contents of {file_path}:\")\n",
        "for line in read_file_line_by_line(file_path):\n",
        "  print(line)"
      ],
      "metadata": {
        "colab": {
          "base_uri": "https://localhost:8080/"
        },
        "id": "Dx35ItnTZLia",
        "outputId": "b2942d33-4878-4c27-f94a-94f96cd0fbf5"
      },
      "execution_count": 33,
      "outputs": [
        {
          "output_type": "stream",
          "name": "stdout",
          "text": [
            "contents of example.txt:\n",
            "file not found: example.txt\n"
          ]
        }
      ]
    },
    {
      "cell_type": "markdown",
      "source": [
        "Q8 Use a lambda function in python to sort a list of tuples based on the second element of each tuple"
      ],
      "metadata": {
        "id": "hbmcQxWBa3hw"
      }
    },
    {
      "cell_type": "code",
      "source": [
        "#list of tuples\n",
        "tuples_list = [(1,3), (4,1), (2,5),(3,2)]\n",
        "\n",
        "# sorting the list based on the second element of each tuple\n",
        "sorted_list = sorted(tuples_list, key = lambda x: x[1])\n",
        "\n",
        "#print the sorted list\n",
        "print(\"sorted list based on the second element of each tuple:\")\n",
        "for tuple in sorted_list:\n",
        "  print(tuple)"
      ],
      "metadata": {
        "colab": {
          "base_uri": "https://localhost:8080/"
        },
        "id": "Wyv8-gc7bKxn",
        "outputId": "e8da2ed3-dd67-4cae-e778-7f311f1d579d"
      },
      "execution_count": 34,
      "outputs": [
        {
          "output_type": "stream",
          "name": "stdout",
          "text": [
            "sorted list based on the second element of each tuple:\n",
            "(4, 1)\n",
            "(3, 2)\n",
            "(1, 3)\n",
            "(2, 5)\n"
          ]
        }
      ]
    },
    {
      "cell_type": "markdown",
      "source": [
        "Q9write a python program that uses map() to convert a list of temperatures from celsius to fahrenhite"
      ],
      "metadata": {
        "id": "m-gpuPzdb5MP"
      }
    },
    {
      "cell_type": "code",
      "source": [
        "# list of temperatures in celius\n",
        "celsius_temperatures = [0, 10, 20, 30, 40]\n",
        "\n",
        "# using map() to convert temperatures from celsius to fahrenheit\n",
        "fahrenheit_temperatures = list(map(lambda c: (c * 9/5) + 32, celsius_temperatures))\n",
        "\n",
        "# printing results\n",
        "print(\"temperatures in farehrenhit:\" , fahrenheit_temperatures)"
      ],
      "metadata": {
        "colab": {
          "base_uri": "https://localhost:8080/"
        },
        "id": "lkKlaYr3cQxm",
        "outputId": "0d15c01c-6b03-4052-b387-db517500215f"
      },
      "execution_count": 37,
      "outputs": [
        {
          "output_type": "stream",
          "name": "stdout",
          "text": [
            "temperatures in farehrenhit: [32.0, 50.0, 68.0, 86.0, 104.0]\n"
          ]
        }
      ]
    },
    {
      "cell_type": "markdown",
      "source": [
        "Q10 cretae a python program that uses filter() to remove all the vowels from a given string"
      ],
      "metadata": {
        "id": "Cy2q6nH1c8de"
      }
    },
    {
      "cell_type": "code",
      "source": [
        "#input string\n",
        "input_string = \"this is afan example string with vowels.\"\n",
        "\n",
        "#defining vowels\n",
        "vowels = \"aeiouAEIOU\"\n",
        "\n",
        "#using filter() to remove vowels\n",
        "filtered_string = ''.join(filter(lambda char : char not in vowels , input_string))\n",
        "\n",
        "#printing the result\n",
        "print(\"string after removing vowels:\" , filtered_string)"
      ],
      "metadata": {
        "colab": {
          "base_uri": "https://localhost:8080/"
        },
        "id": "uYkeKbZDdMH1",
        "outputId": "201bf067-cddf-4fc2-c986-88809446705d"
      },
      "execution_count": 38,
      "outputs": [
        {
          "output_type": "stream",
          "name": "stdout",
          "text": [
            "string after removing vowels: ths s fn xmpl strng wth vwls.\n"
          ]
        }
      ]
    },
    {
      "cell_type": "markdown",
      "source": [
        "Q11 Imagine an accounting routine used in a book shop . It works on alist with sublist which look like this"
      ],
      "metadata": {
        "id": "lw7oVdo4eRgN"
      }
    },
    {
      "cell_type": "code",
      "source": [
        "# data provided in the question\n",
        "orders = [\n",
        "    [34587, \"Learning Python, Mark Lutz\", 4, 40.95],\n",
        "    [98762, \"Programming Python, Mark Lutz\", 5, 56.80],\n",
        "    [77226, \"Head First Python, Paul Barry\", 3, 32.95],\n",
        "    [88112, \"Einführung in Python3, Bernd Klein\", 3, 24.99]\n",
        "]\n",
        "\n",
        "# data provided in the question\n",
        "orders = [\n",
        "    [34587, \"Learning Python, Mark Lutz\", 4, 40.95],\n",
        "    [98762, \"Programming Python, Mark Lutz\", 5, 56.80],\n",
        "    [77226, \"Head First Python, Paul Barry\", 3, 32.95],\n",
        "    [88112, \"Einführung in Python3, Bernd Klein\", 3, 24.99]\n",
        "]\n",
        "\n",
        "#using lamda and map to process the data\n",
        "result = list (map(\n",
        "    lambda order : [order[0], round(order[2] * order[3] + (0 if order[2] * order[3] < 100 else 0), 2)], orders))\n",
        "\n",
        "\n",
        "#output the result\n",
        "print(result)\n",
        "#output the result\n",
        "print(result)"
      ],
      "metadata": {
        "colab": {
          "base_uri": "https://localhost:8080/"
        },
        "id": "QsTT1w6ga2lZ",
        "outputId": "debca2f3-d19b-4b1b-b7d9-800cacfe3f49"
      },
      "execution_count": 46,
      "outputs": [
        {
          "output_type": "stream",
          "name": "stdout",
          "text": [
            "[[34587, 163.8], [98762, 284.0], [77226, 98.85], [88112, 74.97]]\n",
            "[[34587, 163.8], [98762, 284.0], [77226, 98.85], [88112, 74.97]]\n"
          ]
        }
      ]
    },
    {
      "cell_type": "code",
      "source": [
        "]]"
      ],
      "metadata": {
        "id": "MHUlSvRGgpsB"
      },
      "execution_count": null,
      "outputs": []
    }
  ]
}